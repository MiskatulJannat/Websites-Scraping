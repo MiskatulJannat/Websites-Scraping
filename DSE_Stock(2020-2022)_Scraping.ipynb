{
  "nbformat": 4,
  "nbformat_minor": 0,
  "metadata": {
    "colab": {
      "provenance": [],
      "collapsed_sections": [],
      "mount_file_id": "1EyP0HmPPJabZyasDgybfsNclWLks9Ki-",
      "authorship_tag": "ABX9TyOFy4j9hK0SFxzXj7B7q1f7",
      "include_colab_link": true
    },
    "kernelspec": {
      "name": "python3",
      "display_name": "Python 3"
    },
    "language_info": {
      "name": "python"
    }
  },
  "cells": [
    {
      "cell_type": "markdown",
      "metadata": {
        "id": "view-in-github",
        "colab_type": "text"
      },
      "source": [
        "<a href=\"https://colab.research.google.com/github/tuly01/Data-Science/blob/main/W2/DSE_Stock(2020-2022)_Scraping.ipynb\" target=\"_parent\"><img src=\"https://colab.research.google.com/assets/colab-badge.svg\" alt=\"Open In Colab\"/></a>"
      ]
    },
    {
      "cell_type": "code",
      "execution_count": null,
      "metadata": {
        "id": "gkGWhAtUtLGf"
      },
      "outputs": [],
      "source": [
        "!pip install requests-html"
      ]
    },
    {
      "cell_type": "code",
      "source": [
        "from requests_html import HTMLSession"
      ],
      "metadata": {
        "id": "RpKdjpW6tsMz"
      },
      "execution_count": null,
      "outputs": []
    },
    {
      "cell_type": "code",
      "source": [
        "session = HTMLSession()"
      ],
      "metadata": {
        "id": "47DJv9PCt2W8"
      },
      "execution_count": null,
      "outputs": []
    },
    {
      "cell_type": "code",
      "source": [
        "url = \"https://dsebd.org/old_news.php?startDate=2022-08-20&endDate=2022-08-26&criteria=4&archive=news\"\n",
        "r = session.get(url)\n",
        "print(r.status_code)"
      ],
      "metadata": {
        "id": "NwmaV7bdt5cp"
      },
      "execution_count": null,
      "outputs": []
    },
    {
      "cell_type": "code",
      "source": [
        "from requests_html import HTMLSession\n",
        "session = HTMLSession()\n",
        "def files(j, name, m):\n",
        "  url = f\"https://dsebd.org/old_news.php?startDate={j}-0{m}-01&endDate={j}-0{m}-30&criteria=4&archive=news\"\n",
        "  r = session.get(url)\n",
        "  dse_news = r.html.find(\".table-news\")[0].text\n",
        "  dse_news_lst = dse_news.split('\\n')\n",
        "  trading_code = dse_news_lst[1::8]\n",
        "  news_title = dse_news_lst[3::8]\n",
        "  news = dse_news_lst[5::8]\n",
        "  post_date = dse_news_lst[7::8]\n",
        "  print(f\"{j}, {name}-----\",len(trading_code), len(news_title), len(news), len(post_date))\n",
        "\n",
        "  with open(f\"DSE_Scraping/{j}/{name}.txt\", \"w\") as f:\n",
        "    f.write(\"No, Trading Code, News Title, News, Post Date\\n\")\n",
        "    for i, t, nt, n, p in zip(range(1, len(trading_code)+1), trading_code, news_title, news, post_date):\n",
        "      f.write(f\"{i}, {t}, {nt}, {n}, {p}\")\n",
        "      f.write('\\n')"
      ],
      "metadata": {
        "id": "Y8-qe9wtacD2"
      },
      "execution_count": 37,
      "outputs": []
    },
    {
      "cell_type": "code",
      "source": [
        "for j in range(2020, 2023):\n",
        "  months = {\"January\": 1, \"February\": 2, \"March\": 3, \"April\": 4, \"May\": 5, \"June\": 6, \"July\": 7, \"August\": 8, \"September\": 9, \"October\": 10, \"November\": 11, \"December\": 12}\n",
        "  for name, m in months.items():\n",
        "    files(j,name,m)"
      ],
      "metadata": {
        "id": "oH_epHF4b3Yb"
      },
      "execution_count": null,
      "outputs": []
    }
  ]
}