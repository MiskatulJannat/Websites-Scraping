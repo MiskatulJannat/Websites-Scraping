{
  "nbformat": 4,
  "nbformat_minor": 0,
  "metadata": {
    "colab": {
      "provenance": [],
      "collapsed_sections": [],
      "authorship_tag": "ABX9TyMe7clEBt8jNxxQSN9kE7su",
      "include_colab_link": true
    },
    "kernelspec": {
      "name": "python3",
      "display_name": "Python 3"
    },
    "language_info": {
      "name": "python"
    }
  },
  "cells": [
    {
      "cell_type": "markdown",
      "metadata": {
        "id": "view-in-github",
        "colab_type": "text"
      },
      "source": [
        "<a href=\"https://colab.research.google.com/github/tuly01/Data-Science/blob/main/W2/Hadith_Scrapping.ipynb\" target=\"_parent\"><img src=\"https://colab.research.google.com/assets/colab-badge.svg\" alt=\"Open In Colab\"/></a>"
      ]
    },
    {
      "cell_type": "code",
      "execution_count": null,
      "metadata": {
        "id": "vsj0vfQUlWLr"
      },
      "outputs": [],
      "source": [
        "!pip install requests-html"
      ]
    },
    {
      "cell_type": "code",
      "source": [
        "from requests_html import HTMLSession\n",
        "session = HTMLSession()\n",
        "url= \"http://ihadis.com\"\n",
        "r = session.get(url)\n",
        "print(r.status_code)"
      ],
      "metadata": {
        "id": "lAL16LI5lf21"
      },
      "execution_count": null,
      "outputs": []
    },
    {
      "cell_type": "code",
      "source": [
        "def hadith_scrapping(book_name, total_chapter):\n",
        "  for i in range(1, total_chapter+1):\n",
        "    url = f\"http://ihadis.com/books/{book_name}\"\n",
        "    chapter_url = url + \"/chapter/\" + str(i)\n",
        "    r = session.get(chapter_url)\n",
        "\n",
        "    no_pattern = \"h3.hidden-print\"\n",
        "    number = [i.text for i in r.html.find(no_pattern)]\n",
        "    arabic_text_pattern = \"p.hadith-des2\"\n",
        "    arabic_text = [i.text for i in r.html.find(arabic_text_pattern)]\n",
        "    narrator_pattern = \"p.narrated-by\"\n",
        "    narrator = [i.text for i in r.html.find(narrator_pattern)]\n",
        "    bangla_text_pattern = \".hadith-des\"\n",
        "    bangla_text = [i.text for i in r.html.find(bangla_text_pattern)]\n",
        "    status = \".label.validity\"\n",
        "    hadith_status = [i.text for i in r.html.find(status)]\n",
        "\n",
        "    print(f\"{book_name}, cp- {i}\" , len(number), len(arabic_text), len(narrator), len(bangla_text), len(hadith_status))\n",
        "\n",
        "    with open(f\"Hadith Books/{book_name}/{book_name}_chapter_{i}.txt\", \"w\") as f:\n",
        "      f.write(\"NO., ARABIC TEXT, NARRATOR, BANGLA TEXT, HADITH STATUS\\n\")\n",
        "      for n, a, na, b, hs in zip(number, arabic_text, narrator, bangla_text, hadith_status):\n",
        "        f.write(f\"{n}, {a}, {na}, {b}, {hs}\")\n",
        "        f.write(\"\\n\")\n"
      ],
      "metadata": {
        "id": "OkPFpLgg6xJI"
      },
      "execution_count": null,
      "outputs": []
    },
    {
      "cell_type": "code",
      "source": [
        "import time\n",
        "start = time.time()\n",
        "\n",
        "books = {\"bukhari\": 97, \"muslim\": 56, \"nasayi\": 50, \"abi-dawud\": 43, \"tirmidi\": 46, \"ibn-majah\": 37, \"muatta-malik\": 61, \"riadus-saalehin\": 20, \"bulugul-maram\": 16, \"tirmidi\": 46, \"ibn-majah\": 37, \"mishkatul-masabih\": 11, \"shamayele-tirmidi\": 56}\n",
        "for x, y in books.items():\n",
        "  hadith_scrapping(x, y)\n",
        "\n",
        "end = time.time()\n",
        "print (\"\\nTotal time taken = \", end-start)"
      ],
      "metadata": {
        "id": "3n04Ebrjiu9n"
      },
      "execution_count": null,
      "outputs": []
    }
  ]
}