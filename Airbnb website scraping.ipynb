{
 "cells": [
  {
   "cell_type": "code",
   "execution_count": 1,
   "id": "b7fb337f",
   "metadata": {},
   "outputs": [],
   "source": [
    "import pandas as pd\n",
    "from datetime import datetime\n",
    "import requests\n",
    "import time \n",
    "from requests_html import HTMLSession\n",
    "from PIL import Image\n",
    "from io import BytesIO\n",
    "\n",
    "from selenium import webdriver\n",
    "from selenium.webdriver.common.keys import Keys\n",
    "from selenium.webdriver.firefox.service import Service\n",
    "from selenium.webdriver.common.by import By\n",
    "from selenium.webdriver.support.ui import WebDriverWait\n",
    "from selenium.webdriver.support import expected_conditions as EC\n",
    "from IPython.display import display, clear_output"
   ]
  },
  {
   "cell_type": "code",
   "execution_count": 2,
   "id": "084f049d",
   "metadata": {},
   "outputs": [],
   "source": [
    "s = Service('geckodriver')\n",
    "driver = webdriver.Firefox(service=s)"
   ]
  },
  {
   "cell_type": "code",
   "execution_count": 3,
   "id": "7a4cf053",
   "metadata": {},
   "outputs": [],
   "source": [
    "driver.get(\"https://www.airbnb.com/?tab_id=home_tab&refinement_paths%5B%5D=%2Fhomes&search_mode=flex_destinations_search&flexible_trip_lengths%5B%5D=one_week&location_search=MIN_MAP_BOUNDS&price_filter_input_type=0&category_tag=Tag%3A7769&search_type=category_change\")"
   ]
  },
  {
   "cell_type": "code",
   "execution_count": 4,
   "id": "1899e216",
   "metadata": {},
   "outputs": [
    {
     "data": {
      "text/plain": [
       "'Airbnb: Vacation Rentals, Cabins, Beach Houses, Unique Homes & Experiences'"
      ]
     },
     "execution_count": 4,
     "metadata": {},
     "output_type": "execute_result"
    }
   ],
   "source": [
    "driver.title"
   ]
  },
  {
   "cell_type": "code",
   "execution_count": 16,
   "id": "8747bcb3",
   "metadata": {},
   "outputs": [
    {
     "data": {
      "text/plain": [
       "[<selenium.webdriver.remote.webelement.WebElement (session=\"22fff8b6-a26b-4ccd-a84e-08d8a4fd31a4\", element=\"67710f8b-e9f4-40a8-bff2-81aa6088733e\")>,\n",
       " <selenium.webdriver.remote.webelement.WebElement (session=\"22fff8b6-a26b-4ccd-a84e-08d8a4fd31a4\", element=\"3a0c9f21-60fd-49d2-bb3c-ffc03583efd7\")>,\n",
       " <selenium.webdriver.remote.webelement.WebElement (session=\"22fff8b6-a26b-4ccd-a84e-08d8a4fd31a4\", element=\"7db55b9e-6edf-4b52-a155-231ffa599698\")>,\n",
       " <selenium.webdriver.remote.webelement.WebElement (session=\"22fff8b6-a26b-4ccd-a84e-08d8a4fd31a4\", element=\"8028d9bd-8813-45c2-81f3-ffa758e04f03\")>,\n",
       " <selenium.webdriver.remote.webelement.WebElement (session=\"22fff8b6-a26b-4ccd-a84e-08d8a4fd31a4\", element=\"738304d3-7367-49d3-b3b8-779069433871\")>,\n",
       " <selenium.webdriver.remote.webelement.WebElement (session=\"22fff8b6-a26b-4ccd-a84e-08d8a4fd31a4\", element=\"b0895bf7-17bf-4d0c-bece-01e1e3e9ecb8\")>,\n",
       " <selenium.webdriver.remote.webelement.WebElement (session=\"22fff8b6-a26b-4ccd-a84e-08d8a4fd31a4\", element=\"4fbe98df-c68e-4a6f-926c-dd5e4618446b\")>,\n",
       " <selenium.webdriver.remote.webelement.WebElement (session=\"22fff8b6-a26b-4ccd-a84e-08d8a4fd31a4\", element=\"a5602342-6fb4-4281-8587-c4be5b6acfd0\")>,\n",
       " <selenium.webdriver.remote.webelement.WebElement (session=\"22fff8b6-a26b-4ccd-a84e-08d8a4fd31a4\", element=\"1c452228-1e95-4ffe-94f2-3b447b18118b\")>,\n",
       " <selenium.webdriver.remote.webelement.WebElement (session=\"22fff8b6-a26b-4ccd-a84e-08d8a4fd31a4\", element=\"45389ac8-082c-4b36-929e-79141d1c589a\")>,\n",
       " <selenium.webdriver.remote.webelement.WebElement (session=\"22fff8b6-a26b-4ccd-a84e-08d8a4fd31a4\", element=\"0f598154-0893-4dff-ab0b-6e6b532155a5\")>,\n",
       " <selenium.webdriver.remote.webelement.WebElement (session=\"22fff8b6-a26b-4ccd-a84e-08d8a4fd31a4\", element=\"f3117a42-ea73-401c-add4-5d6d0ae84664\")>,\n",
       " <selenium.webdriver.remote.webelement.WebElement (session=\"22fff8b6-a26b-4ccd-a84e-08d8a4fd31a4\", element=\"a9530f9f-77d3-48a6-93ce-509228a6e020\")>,\n",
       " <selenium.webdriver.remote.webelement.WebElement (session=\"22fff8b6-a26b-4ccd-a84e-08d8a4fd31a4\", element=\"ab3e64e1-9bd4-4a1d-9e03-de2e5e83647b\")>,\n",
       " <selenium.webdriver.remote.webelement.WebElement (session=\"22fff8b6-a26b-4ccd-a84e-08d8a4fd31a4\", element=\"1cf1cc7d-6cbf-4bff-a7b5-bd21cd0213d9\")>,\n",
       " <selenium.webdriver.remote.webelement.WebElement (session=\"22fff8b6-a26b-4ccd-a84e-08d8a4fd31a4\", element=\"6b3a12e8-d380-4d2c-94bf-62c4f2016cd5\")>,\n",
       " <selenium.webdriver.remote.webelement.WebElement (session=\"22fff8b6-a26b-4ccd-a84e-08d8a4fd31a4\", element=\"bff43d0a-1021-4307-88c4-01f7859df5d3\")>,\n",
       " <selenium.webdriver.remote.webelement.WebElement (session=\"22fff8b6-a26b-4ccd-a84e-08d8a4fd31a4\", element=\"b42578e5-fc95-4f0b-97a3-3550d2ce4a1e\")>,\n",
       " <selenium.webdriver.remote.webelement.WebElement (session=\"22fff8b6-a26b-4ccd-a84e-08d8a4fd31a4\", element=\"c1b2bff6-bd34-45c4-9497-146f2d35b35b\")>,\n",
       " <selenium.webdriver.remote.webelement.WebElement (session=\"22fff8b6-a26b-4ccd-a84e-08d8a4fd31a4\", element=\"469cefc5-4c94-4c8b-8c26-47c6efc1472f\")>]"
      ]
     },
     "execution_count": 16,
     "metadata": {},
     "output_type": "execute_result"
    }
   ],
   "source": [
    "links = driver.find_elements(by=By.CLASS_NAME, value=\"ln2bl2p\")\n",
    "links"
   ]
  },
  {
   "cell_type": "code",
   "execution_count": 17,
   "id": "6c5cde8e",
   "metadata": {},
   "outputs": [
    {
     "data": {
      "text/plain": [
       "['https://www.airbnb.com/rooms/54022691?adults=1&category_tag=Tag%3A7769&children=0&infants=0&search_mode=flex_destinations_search&check_in=2022-10-22&check_out=2022-10-27&previous_page_section_name=1000&federated_search_id=622c2f36-2554-4906-ba7d-d953358e6d41',\n",
       " 'https://www.airbnb.com/rooms/675741242765942115?adults=1&category_tag=Tag%3A7769&children=0&infants=0&search_mode=flex_destinations_search&check_in=2022-12-16&check_out=2022-12-21&previous_page_section_name=1000&federated_search_id=622c2f36-2554-4906-ba7d-d953358e6d41',\n",
       " 'https://www.airbnb.com/rooms/21264467?adults=1&category_tag=Tag%3A7769&children=0&infants=0&search_mode=flex_destinations_search&check_in=2022-11-12&check_out=2022-11-19&previous_page_section_name=1000&federated_search_id=622c2f36-2554-4906-ba7d-d953358e6d41',\n",
       " 'https://www.airbnb.com/rooms/572043884367743443?adults=1&category_tag=Tag%3A7769&children=0&infants=0&search_mode=flex_destinations_search&check_in=2023-01-07&check_out=2023-01-13&previous_page_section_name=1000&federated_search_id=622c2f36-2554-4906-ba7d-d953358e6d41',\n",
       " 'https://www.airbnb.com/rooms/683860118060620069?adults=1&category_tag=Tag%3A7769&children=0&infants=0&search_mode=flex_destinations_search&check_in=2022-10-08&check_out=2022-10-13&previous_page_section_name=1000&federated_search_id=622c2f36-2554-4906-ba7d-d953358e6d41',\n",
       " 'https://www.airbnb.com/rooms/4079786?adults=1&category_tag=Tag%3A7769&children=0&infants=0&search_mode=flex_destinations_search&check_in=2022-10-08&check_out=2022-10-13&previous_page_section_name=1000&federated_search_id=622c2f36-2554-4906-ba7d-d953358e6d41',\n",
       " 'https://www.airbnb.com/rooms/35235283?adults=1&category_tag=Tag%3A7769&children=0&infants=0&search_mode=flex_destinations_search&check_in=2022-10-23&check_out=2022-10-28&previous_page_section_name=1000&federated_search_id=622c2f36-2554-4906-ba7d-d953358e6d41',\n",
       " 'https://www.airbnb.com/rooms/581662462414126931?adults=1&category_tag=Tag%3A7769&children=0&infants=0&search_mode=flex_destinations_search&check_in=2022-10-17&check_out=2022-10-22&previous_page_section_name=1000&federated_search_id=622c2f36-2554-4906-ba7d-d953358e6d41',\n",
       " 'https://www.airbnb.com/rooms/52832242?adults=1&category_tag=Tag%3A7769&children=0&infants=0&search_mode=flex_destinations_search&check_in=2022-10-15&check_out=2022-10-20&previous_page_section_name=1000&federated_search_id=622c2f36-2554-4906-ba7d-d953358e6d41',\n",
       " 'https://www.airbnb.com/rooms/19772852?adults=1&category_tag=Tag%3A7769&children=0&infants=0&search_mode=flex_destinations_search&check_in=2023-06-23&check_out=2023-06-28&previous_page_section_name=1000&federated_search_id=622c2f36-2554-4906-ba7d-d953358e6d41',\n",
       " 'https://www.airbnb.com/rooms/14326346?adults=1&category_tag=Tag%3A7769&children=0&infants=0&search_mode=flex_destinations_search&check_in=2022-10-15&check_out=2022-10-20&previous_page_section_name=1000&federated_search_id=622c2f36-2554-4906-ba7d-d953358e6d41',\n",
       " 'https://www.airbnb.com/rooms/3880166?adults=1&category_tag=Tag%3A7769&children=0&infants=0&search_mode=flex_destinations_search&check_in=2022-10-23&check_out=2022-10-28&previous_page_section_name=1000&federated_search_id=622c2f36-2554-4906-ba7d-d953358e6d41',\n",
       " 'https://www.airbnb.com/rooms/32353511?adults=1&category_tag=Tag%3A7769&children=0&infants=0&search_mode=flex_destinations_search&check_in=2022-10-08&check_out=2022-10-13&previous_page_section_name=1000&federated_search_id=622c2f36-2554-4906-ba7d-d953358e6d41',\n",
       " 'https://www.airbnb.com/rooms/21262006?adults=1&category_tag=Tag%3A7769&children=0&infants=0&search_mode=flex_destinations_search&check_in=2022-10-08&check_out=2022-10-13&previous_page_section_name=1000&federated_search_id=622c2f36-2554-4906-ba7d-d953358e6d41',\n",
       " 'https://www.airbnb.com/rooms/20797638?adults=1&category_tag=Tag%3A7769&children=0&infants=0&search_mode=flex_destinations_search&check_in=2022-10-14&check_out=2022-10-19&previous_page_section_name=1000&federated_search_id=622c2f36-2554-4906-ba7d-d953358e6d41',\n",
       " 'https://www.airbnb.com/rooms/45003636?adults=1&category_tag=Tag%3A7769&children=0&infants=0&search_mode=flex_destinations_search&check_in=2022-11-04&check_out=2022-11-09&previous_page_section_name=1000&federated_search_id=622c2f36-2554-4906-ba7d-d953358e6d41',\n",
       " 'https://www.airbnb.com/rooms/565693761242477176?adults=1&category_tag=Tag%3A7769&children=0&infants=0&search_mode=flex_destinations_search&check_in=2022-10-27&check_out=2022-11-01&previous_page_section_name=1000&federated_search_id=622c2f36-2554-4906-ba7d-d953358e6d41',\n",
       " 'https://www.airbnb.com/rooms/19754311?adults=1&category_tag=Tag%3A7769&children=0&infants=0&search_mode=flex_destinations_search&check_in=2022-10-23&check_out=2022-10-30&previous_page_section_name=1000&federated_search_id=622c2f36-2554-4906-ba7d-d953358e6d41',\n",
       " 'https://www.airbnb.com/rooms/54298293?adults=1&category_tag=Tag%3A7769&children=0&infants=0&search_mode=flex_destinations_search&check_in=2022-10-16&check_out=2022-10-22&previous_page_section_name=1000&federated_search_id=622c2f36-2554-4906-ba7d-d953358e6d41',\n",
       " 'https://www.airbnb.com/rooms/22537993?adults=1&category_tag=Tag%3A7769&children=0&infants=0&search_mode=flex_destinations_search&check_in=2022-10-11&check_out=2022-10-16&previous_page_section_name=1000&federated_search_id=622c2f36-2554-4906-ba7d-d953358e6d41']"
      ]
     },
     "execution_count": 17,
     "metadata": {},
     "output_type": "execute_result"
    }
   ],
   "source": [
    "urls = [p.get_attribute('href') for p in links]\n",
    "urls"
   ]
  },
  {
   "cell_type": "code",
   "execution_count": 63,
   "id": "400d22e7",
   "metadata": {},
   "outputs": [],
   "source": [
    "driver.get('https://www.airbnb.com/rooms/4079786?adults=1&category_tag=Tag%3A7769&children=0&infants=0&search_mode=flex_destinations_search&check_in=2022-10-08&check_out=2022-10-13&previous_page_section_name=1000&federated_search_id=622c2f36-2554-4906-ba7d-d953358e6d41')"
   ]
  },
  {
   "cell_type": "code",
   "execution_count": 66,
   "id": "eb150ba4",
   "metadata": {
    "collapsed": true
   },
   "outputs": [
    {
     "name": "stdout",
     "output_type": "stream",
     "text": [
      "Beachfront Family Condo 2 BR @ Baan San Kraam\n",
      "4.88 ·\n",
      "90 reviews\n",
      "Thailand\n",
      "$69\n",
      "Our apartment has ALL the amenities you need and we also allow Early Check-In!\n",
      "\n",
      "As a parent with children living in the city, I wanted to escape the city to relax by the sea. But I found staying in hotels expensive, crowded & tiring. Luckily I found this Beachfront Resort, and I have never looked back!\n",
      "\n",
      "Our apartment is 65 sqm and has 2 bedrooms, 2 bathrooms (with showers), a kitchen and is located in Baan San Kraam Resort which is stunningly beautiful with many swimming pools & fitness.\n",
      "\n",
      "\n",
      "Welcome to our cozy \"fun nautical themed\" 2 bedroom apartment with stunning ambiance, landscape, swimming pools and beachfront location! This apartment is ideal for families or groups looking for a quiet and comfortable vacationing spot with lots of swimming, beach fun and relaxation.\n",
      "\n",
      "APARTMENT:\n",
      "The apartment is located between Cha-Am and Hua Hin in \"Baan San Kraam\" Resort, a beachfront project by Sansiri with the most swimming pools and garden areas. The resort offers excellent architectural design, landscaped gardens, private and inter-connected salt water pools, beautiful beach access and much more. The location is not only excellent but also safe as it sits between the Sheraton Hotel (to the left) and Dusit Thani Hotel (to the right).\n",
      "\n",
      "The apartment is located on the 2nd floor with pool and garden views and can accommodate up to 6 people (unfortunately, the resort charges fees for any additional guests above six).\n",
      "\n",
      "Our apartment is 65 sqm and is equipped with 2 bedrooms, 2 bathrooms (both with hot rain showers and toilets), a kitchen, dining area and dining amenities and a large balcony overlooking the swimming pool.\n",
      "\n",
      "The space is fully furnished in a \"fun nautical theme\", and comes with free wifi, satellite TV, DVD player, built-in AC in all rooms, electrical fans, microwave, kettle, toaster, refrigerator and dining amenities.\n",
      "\n",
      "This apartment is our second home and we visit Baan San Kraam as often as possible. However, we are happy to share our beautiful home with you and ask only that you look after the unit as if it were your own. We are confident you will have a great time and experience staying here!\n"
     ]
    }
   ],
   "source": [
    "title = driver.find_element(by=By.CLASS_NAME, value='_fecoyn4')\n",
    "print(title.text)\n",
    "rating = driver.find_element(by=By.CLASS_NAME, value='_17p6nbba')\n",
    "print(rating.text)\n",
    "review = driver.find_element(by=By.CLASS_NAME, value='_11eqlma4')\n",
    "print(review.text)\n",
    "location = driver.find_element(by=By.CLASS_NAME, value='_9xiloll')\n",
    "print(location.text)\n",
    "price = driver.find_element(by=By.XPATH, value='/html/body/div[5]/div/div/div[1]/div/div/div[1]/div/div/div/div/div[1]/main/div/div[1]/div[3]/div/div[2]/div/div/div[1]/div/div/div/div/div/div/div[1]/div[1]/div[1]/div/span/div/span[1]')\n",
    "print(price.text)\n",
    "description = driver.find_element(by=By.XPATH, value='/html/body/div[5]/div/div/div[1]/div/div/div[1]/div/div/div/div/div[1]/main/div/div[1]/div[3]/div/div[1]/div/div[4]/div/div[2]/div[1]')\n",
    "print(description.text)"
   ]
  },
  {
   "cell_type": "code",
   "execution_count": 85,
   "id": "6a73f980",
   "metadata": {},
   "outputs": [
    {
     "name": "stdout",
     "output_type": "stream",
     "text": [
      "<PIL.JpegImagePlugin.JpegImageFile image mode=RGB size=720x480 at 0x1F75FE7FC40>\n",
      "<PIL.JpegImagePlugin.JpegImageFile image mode=RGB size=720x399 at 0x1F75FE7FC10>\n",
      "<PIL.JpegImagePlugin.JpegImageFile image mode=RGB size=720x480 at 0x1F75FE7FF70>\n",
      "<PIL.JpegImagePlugin.JpegImageFile image mode=RGB size=720x480 at 0x1F75FE7FA30>\n",
      "<PIL.JpegImagePlugin.JpegImageFile image mode=RGB size=720x480 at 0x1F75FE7FAC0>\n"
     ]
    }
   ],
   "source": [
    "images = driver.find_element(by=By.XPATH, value='/html/body/div[5]/div/div/div[1]/div/div/div[1]/div/div/div/div/div[1]/main/div/div[1]/div[1]/div[2]/div/div')\n",
    "img_path = []\n",
    "for img in images.find_elements(by=By.TAG_NAME,value='img'):\n",
    "    img_urls = img.get_attribute('src')\n",
    "    r = requests.get(img_urls)\n",
    "    i = Image.open(BytesIO(r.content))\n",
    "    print(i)\n",
    "    i.save(\"imagee/img.jpg\")"
   ]
  },
  {
   "cell_type": "code",
   "execution_count": null,
   "id": "ea8baa81",
   "metadata": {},
   "outputs": [],
   "source": []
  }
 ],
 "metadata": {
  "kernelspec": {
   "display_name": "Python 3 (ipykernel)",
   "language": "python",
   "name": "python3"
  },
  "language_info": {
   "codemirror_mode": {
    "name": "ipython",
    "version": 3
   },
   "file_extension": ".py",
   "mimetype": "text/x-python",
   "name": "python",
   "nbconvert_exporter": "python",
   "pygments_lexer": "ipython3",
   "version": "3.9.7"
  }
 },
 "nbformat": 4,
 "nbformat_minor": 5
}
