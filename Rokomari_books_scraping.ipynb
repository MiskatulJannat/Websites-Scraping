{
  "nbformat": 4,
  "nbformat_minor": 0,
  "metadata": {
    "colab": {
      "provenance": [],
      "authorship_tag": "ABX9TyOlop40TAFxXzfyJbprM3b5",
      "include_colab_link": true
    },
    "kernelspec": {
      "name": "python3",
      "display_name": "Python 3"
    },
    "language_info": {
      "name": "python"
    }
  },
  "cells": [
    {
      "cell_type": "markdown",
      "metadata": {
        "id": "view-in-github",
        "colab_type": "text"
      },
      "source": [
        "<a href=\"https://colab.research.google.com/github/tuly01/Data-Science/blob/main/W2/Rokomari_books_scraping.ipynb\" target=\"_parent\"><img src=\"https://colab.research.google.com/assets/colab-badge.svg\" alt=\"Open In Colab\"/></a>"
      ]
    },
    {
      "cell_type": "code",
      "execution_count": null,
      "metadata": {
        "id": "SILqxq0kDO3g"
      },
      "outputs": [],
      "source": [
        "!pip install requests-html"
      ]
    },
    {
      "cell_type": "code",
      "source": [
        "from requests_html import HTMLSession\n",
        "session = HTMLSession()"
      ],
      "metadata": {
        "id": "XWaEXeuxD43m"
      },
      "execution_count": 2,
      "outputs": []
    },
    {
      "cell_type": "code",
      "source": [
        "url = \"https://www.rokomari.com/book/90459/sohiho-masnun-ojifa\"\n",
        "r = session.get(url)\n",
        "print(r.status_code)"
      ],
      "metadata": {
        "colab": {
          "base_uri": "https://localhost:8080/"
        },
        "id": "cLYJ1hO5EYbH",
        "outputId": "4af7f544-8233-4ddf-e84b-0b2fa233fdc5"
      },
      "execution_count": 3,
      "outputs": [
        {
          "output_type": "stream",
          "name": "stdout",
          "text": [
            "200\n"
          ]
        }
      ]
    },
    {
      "cell_type": "code",
      "source": [
        "book_name = r.html.find('.details-book-main-info__header', first=True)\n",
        "print(book_name.text)\n",
        "author_name = r.html.find('html body div.container section#details-page section.details-book-section div.row div.col-9 div.details-book-main-info-wrapper div.row.no-gutters div.col.details-book-main-info.align-self-center div.details-book-main-info__content p.details-book-info__content-author a', first=True)\n",
        "print(author_name.text)\n",
        "catagory = r.html.find('a.ml-2:nth-child(3)', first=True)\n",
        "print(catagory.text)\n",
        "rating = r.html.find('.details-book-info__content-rating', first=True)\n",
        "print(rating.text)\n",
        "stock = r.html.find('html body div.container section#details-page section.details-book-section div.row div.col-9 div.details-book-main-info-wrapper div.row.no-gutters div.col.details-book-main-info.align-self-center div.details-book-main-info__content div.d-flex figure.stock-available', first=True)\n",
        "print(stock.text)"
      ],
      "metadata": {
        "colab": {
          "base_uri": "https://localhost:8080/"
        },
        "id": "VjE6-Fm7FBOK",
        "outputId": "f9e2f93c-3a21-4b9b-d7f7-80b6654f8289"
      },
      "execution_count": 27,
      "outputs": [
        {
          "output_type": "stream",
          "name": "stdout",
          "text": [
            "সহীহ মাসনূন ওযীফা (পেপারব্যাক)\n",
            "ড. খোন্দকার আব্দুল্লাহ জাহাঙ্গীর\n",
            "দোয়া, দরূদ ও যিকর\n",
            "282 Ratings / 171 Reviews\n",
            "In Stock (30 copies available)\n"
          ]
        }
      ]
    },
    {
      "cell_type": "code",
      "source": [
        "image = r.html.find('.look-inside')\n",
        "print(image)"
      ],
      "metadata": {
        "colab": {
          "base_uri": "https://localhost:8080/"
        },
        "id": "7MJU3m63GIaF",
        "outputId": "b5848e0e-4c72-44c6-b6d7-87f4bd0485fa"
      },
      "execution_count": 28,
      "outputs": [
        {
          "output_type": "stream",
          "name": "stdout",
          "text": [
            "[<Element 'img' class=('look-inside',) src='https://ds.rokomari.store/rokomari110/ProductNew20190903/260X372/ff16f225e074_90459.jpg' alt='সহীহ মাসনূন ওযীফা' onclick=\"gtag('event', 'click_look_inside', {'product_id': 90459});ga('send', 'event', 'Detail', 'Click', 'Details-Click_on_Look_Inside_Image-Click');\">]\n"
          ]
        }
      ]
    },
    {
      "cell_type": "code",
      "source": [],
      "metadata": {
        "id": "V-ldyiSzPMx2"
      },
      "execution_count": null,
      "outputs": []
    }
  ]
}